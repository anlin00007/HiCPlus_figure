{
 "cells": [
  {
   "cell_type": "code",
   "execution_count": 1,
   "metadata": {
    "collapsed": true
   },
   "outputs": [],
   "source": [
    "import numpy as np\n",
    "import matplotlib.pyplot as plt\n",
    "from sklearn.metrics import roc_curve, auc\n",
    "from sklearn.metrics import roc_auc_score\n",
    "from sklearn.metrics import precision_recall_curve\n",
    "from sklearn.metrics import average_precision_score\n",
    "import sys\n",
    "import pandas"
   ]
  },
  {
   "cell_type": "code",
   "execution_count": 2,
   "metadata": {
    "collapsed": true
   },
   "outputs": [],
   "source": [
    "chrs_length = [249250621,243199373,198022430,191154276,180915260,171115067,159138663,146364022,141213431,135534747,135006516,133851895,115169878,107349540,102531392,90354753,81195210,78077248,59128983,63025520,48129895,51304566]"
   ]
  },
  {
   "cell_type": "code",
   "execution_count": 3,
   "metadata": {
    "collapsed": true
   },
   "outputs": [],
   "source": [
    "chrn = 18"
   ]
  },
  {
   "cell_type": "code",
   "execution_count": 4,
   "metadata": {
    "collapsed": false
   },
   "outputs": [],
   "source": [
    "fithic1 = np.genfromtxt('/Users/linan/Downloads/IDR_reg.txt',delimiter=',' ,skip_header=1)\n",
    "fithic2 = np.genfromtxt('/Users/linan/Downloads/fithicrep1.txt', delimiter=',',skip_header=1)\n",
    "fithic3 = np.genfromtxt('/Users/linan/Downloads/fithicrep2.txt', delimiter=',',skip_header=1)"
   ]
  },
  {
   "cell_type": "code",
   "execution_count": 5,
   "metadata": {
    "collapsed": false
   },
   "outputs": [
    {
     "data": {
      "text/plain": [
       "((535201, 7), (535201, 7), (535201, 7))"
      ]
     },
     "execution_count": 5,
     "metadata": {},
     "output_type": "execute_result"
    }
   ],
   "source": [
    "np.shape(fithic1),np.shape(fithic2),np.shape(fithic3)"
   ]
  },
  {
   "cell_type": "code",
   "execution_count": 11,
   "metadata": {
    "collapsed": false
   },
   "outputs": [
    {
     "name": "stdout",
     "output_type": "stream",
     "text": [
      "########Finish loading files########\n",
      "########Finish finding overlap between Chipseq and ChiAPET#######\n",
      "100\n",
      "########Finish removing overlaps#########\n",
      "########Finish removing redundant chiapet-hic entries########\n",
      "########Finish generating truelist########\n",
      "88\n",
      "########Finish removing redundant nonchiapet-hic entries########\n",
      "1046\n",
      "########Finish generating falselist########\n",
      "########Finish generating fithic matrix########\n",
      "########Finish generating fithic matrix########\n",
      "########Finish generating fithic matrix########\n"
     ]
    }
   ],
   "source": [
    "res=25000\n",
    "chrnum = 'chr'+str(chrn)\n",
    "celltype = 'Gm12878'\n",
    "fpr_all=[]\n",
    "tpr_all=[]\n",
    "chiapet = np.genfromtxt('/Users/linan/Dropbox/ChiAPET/'+celltype+'/'+celltype+'.CTCF.'+chrnum)\n",
    "ctcflist_chip = pandas.read_table('/Users/linan/Dropbox/CTCF/'+celltype+'Ctcf.1bp',sep=' ', header=None)\n",
    "ctcflist_chip.columns = [\"chr\", \"pos\", \"direction\"]\n",
    "ctcflist_chip = ctcflist_chip.loc[ctcflist_chip['chr']==chrnum]\n",
    "ctcflist_chip = ctcflist_chip.values\n",
    "print '########Finish loading files########'\n",
    "dim = chrs_length[chrn-1]/res+1\n",
    "lowerb = 50000 #100000\n",
    "upperb = 5000000\n",
    "numoffithic = 3\n",
    "auc_score=np.zeros((numoffithic,100))\n",
    "prc_score=np.zeros((numoffithic,100))\n",
    "overlaplist=[]\n",
    "for j in range(0,ctcflist_chip.shape[0]):\n",
    "    chippos = ctcflist_chip[j,1]\n",
    "    for i in range(0,chiapet.shape[0]):\n",
    "        chiapet_1_1 = chiapet[i,1]\n",
    "        chiapet_1_2 = chiapet[i,2]\n",
    "        chiapet_2_1 = chiapet[i,4]\n",
    "        chiapet_2_2 = chiapet[i,5]\n",
    "        if chippos <= chiapet_1_2+res/2 and chippos >= chiapet_1_1-res/2:\n",
    "            overlaplist.append(j)\n",
    "            break\n",
    "        if chippos <= chiapet_2_1+res/2 and chippos >= chiapet_2_2-res/2:\n",
    "            overlaplist.append(j)\n",
    "            break\n",
    "\n",
    "print '########Finish finding overlap between Chipseq and ChiAPET#######'\n",
    "chipnotchiapet = np.delete(ctcflist_chip,overlaplist,axis=0)\n",
    "print len(chipnotchiapet)\n",
    "print '########Finish removing overlaps#########'\n",
    "truelistloc = []\n",
    "chiapet_coord = np.stack(((chiapet[:,1]+chiapet[:,2])/2/res,(chiapet[:,4]+chiapet[:,5])/2/res), axis=-1)##save chiapet in hic position to array\n",
    "chiapet_nodup = np.vstack({tuple(row) for row in chiapet_coord.astype(int)})###remove multiple chiapet entry in same hic contact\n",
    "print '########Finish removing redundant chiapet-hic entries########'\n",
    "for chiapos in range(0,chiapet_nodup.shape[0]):\n",
    "    chiapet_1 = chiapet_nodup[chiapos,0]\n",
    "    chiapet_2 = chiapet_nodup[chiapos,1]\n",
    "    if abs(chiapet_2*res - chiapet_1*res) > lowerb and abs(chiapet_2*res - chiapet_1*res) < upperb:\n",
    "        truelistloc.append((chiapet_1,chiapet_2))\n",
    "print '########Finish generating truelist########'\n",
    "chipnotchiapet_nodup = np.unique(chipnotchiapet[:,1].astype(int)/res)\n",
    "print len(chipnotchiapet_nodup)\n",
    "print '########Finish removing redundant nonchiapet-hic entries########'\n",
    "print len(truelistloc)\n",
    "falselistloc = []\n",
    "for o in range(0,100):\n",
    "    nf = 0\n",
    "    while nf <= len(truelistloc):\n",
    "        b = np.random.randint(0,chipnotchiapet_nodup.shape[0],2)\n",
    "        if abs(chipnotchiapet_nodup[b[0]]*res-chipnotchiapet_nodup[b[1]]*res) < upperb and abs(chipnotchiapet_nodup[b[0]]*res-chipnotchiapet_nodup[b[1]]*res) > lowerb:\n",
    "            falselistloc.append((min(chipnotchiapet_nodup[b[0]],chipnotchiapet_nodup[b[1]]),max(chipnotchiapet_nodup[b[0]],chipnotchiapet_nodup[b[1]])))\n",
    "            nf+=1\n",
    "print '########Finish generating falselist########'\n",
    "fitn = 0\n",
    "for fithic in [fithic1,fithic2,fithic3]:\n",
    "    #print fitn\n",
    "    fithic_mat = np.zeros((dim,dim))\n",
    "    for x in range(0,fithic.shape[0]):\n",
    "        bin1 = int(fithic[x,1])/res\n",
    "        bin2 = int(fithic[x,3])/res\n",
    "        fithic_mat[bin1,bin2] = -np.log10(fithic[x,6])\n",
    "    print '########Finish generating fithic matrix########'\n",
    "    for q in range(0,100):\n",
    "        truelist=[]\n",
    "        falselist=[]\n",
    "        for t in range(0,len(truelistloc)):\n",
    "            truelist.append(fithic_mat[truelistloc[t][0],truelistloc[t][1]])\n",
    "            falselist.append(fithic_mat[falselistloc[q*len(truelistloc)+t][0],falselistloc[q*len(truelistloc)+t][1]])\n",
    "        y = np.array([1]*len(truelist)+[0]*len(falselist))\n",
    "        y_score = np.array(truelist+falselist) \n",
    "        fpr_rf, tpr_rf, _ = roc_curve(y, y_score)\n",
    "        fpr_all.append(fpr_rf)\n",
    "        tpr_all.append(tpr_rf)\n",
    "        auc_score[fitn,q]=roc_auc_score(y, y_score)\n",
    "        prc_score[fitn,q]=average_precision_score(y, y_score)\n",
    "    fitn += 1"
   ]
  },
  {
   "cell_type": "code",
   "execution_count": 12,
   "metadata": {
    "collapsed": false
   },
   "outputs": [
    {
     "data": {
      "image/png": "[encoded data removed]",
      "text/plain": [
       "<matplotlib.figure.Figure at 0x11ffaba90>"
      ]
     },
     "metadata": {},
     "output_type": "display_data"
    }
   ],
   "source": [
    "# Plot all ROC curves\n",
    "fig = plt.figure()\n",
    "\n",
    "plt.plot(fpr_all[2], tpr_all[2], color='c', lw=2,\n",
    "             label='IDR (AUC = {1:0.3f})'\n",
    "             ''.format(2, np.mean(auc_score[0,:])))\n",
    "plt.plot(fpr_all[102], tpr_all[102], color='r', lw=2,\n",
    "             label='Fithic1 (AUC = {1:0.3f})'\n",
    "             ''.format(102, np.mean(auc_score[1,:])))\n",
    "plt.plot(fpr_all[210], tpr_all[210], color='m', lw=2,\n",
    "             label='Fithic2 (AUC = {1:0.3f})'\n",
    "             ''.format(210, np.mean(auc_score[2,:])))\n",
    "plt.plot([0, 1], [0, 1], 'k--', lw=2)\n",
    "plt.xlim([0.0, 1.0])\n",
    "plt.ylim([0.0, 1.05])\n",
    "plt.xlabel('False Positive Rate',fontsize=14)\n",
    "plt.ylabel('True Positive Rate',fontsize=14)\n",
    "plt.legend(loc=\"lower right\")\n",
    "plt.show()"
   ]
  },
  {
   "cell_type": "code",
   "execution_count": 8,
   "metadata": {
    "collapsed": true
   },
   "outputs": [],
   "source": [
    "fig.savefig(\"/Users/linan/Dropbox/PSU_USC/NAR_paper/FitHiC/ROC_chr\"+str(chrn)+\".redo.png\", dpi=1500)"
   ]
  },
  {
   "cell_type": "code",
   "execution_count": 60,
   "metadata": {
    "collapsed": true
   },
   "outputs": [],
   "source": [
    "fpr_all=np.array(fpr_all)\n",
    "tpr_all=np.array(tpr_all)"
   ]
  },
  {
   "cell_type": "code",
   "execution_count": 63,
   "metadata": {
    "collapsed": true
   },
   "outputs": [],
   "source": [
    "np.save(\"/Users/leoli/Dropbox/PSU_USC/NAR_paper/FitHiC/fpr\",fpr_all)\n",
    "np.save(\"/Users/leoli/Dropbox/PSU_USC/NAR_paper/FitHiC/tpr\",tpr_all)\n",
    "np.save(\"/Users/leoli/Dropbox/PSU_USC/NAR_paper/FitHiC/auc\",auc_score)"
   ]
  },
  {
   "cell_type": "code",
   "execution_count": 12,
   "metadata": {
    "collapsed": false
   },
   "outputs": [
    {
     "data": {
      "text/plain": [
       "70"
      ]
     },
     "execution_count": 12,
     "metadata": {},
     "output_type": "execute_result"
    }
   ],
   "source": [
    "int(70.5)"
   ]
  },
  {
   "cell_type": "code",
   "execution_count": null,
   "metadata": {
    "collapsed": true
   },
   "outputs": [],
   "source": []
  }
 ],
 "metadata": {
  "anaconda-cloud": {},
  "kernelspec": {
   "display_name": "Python [default]",
   "language": "python",
   "name": "python2"
  },
  "language_info": {
   "codemirror_mode": {
    "name": "ipython",
    "version": 2
   },
   "file_extension": ".py",
   "mimetype": "text/x-python",
   "name": "python",
   "nbconvert_exporter": "python",
   "pygments_lexer": "ipython2",
   "version": "2.7.12"
  }
 },
 "nbformat": 4,
 "nbformat_minor": 1
}
